{
 "cells": [
  {
   "cell_type": "markdown",
   "metadata": {
    "ExecuteTime": {
     "end_time": "2020-01-18T13:15:34.115511Z",
     "start_time": "2020-01-18T13:15:34.105156Z"
    }
   },
   "source": [
    "# Challenge 1 - Design the Database\n",
    "Using pen and paper (or computer software if you are skillful at creating digital diagrams), design a database to meet the minimal requirements of your boss. The minimal information to be recorded is described below:\n",
    "\n",
    "Cars - e.g. the vehicle identification number (VIN), manufacturer, model, year, and color of the cars in your company's inventory.\n",
    "\n",
    "Customers - e.g. the customer ID, name, phone number, email, address, city, state/province, country, and zip/postal code of the customers.\n",
    "\n",
    "Salespersons - e.g. staff ID, name, and the store at your company.\n",
    "\n",
    "Invoices - e.g. the invoice number, date, car, spare part, customer, and salesperson related to each car sale or spare part\n",
    "\n",
    "Spare parts - e.g. the spare part id, manufacaturer, model, description\n",
    "\n",
    "Before solving this challenge, review your lesson about database structure and design then ask yourself:\n",
    "\n",
    "What entities and attributes should be included in the database?\n",
    "\n",
    "For each attribute, what data type is most suitable?\n",
    "Also note that some attributes are required while other ones can be blank.\n",
    "What are the relations between these entities? Which relations are one-to-one vs one-to-many vs many-to-many?\n",
    "\n",
    "Your end product of this challenge should look something like below, though it doesn't have to be that complicated:"
   ]
  },
  {
   "cell_type": "markdown",
   "metadata": {},
   "source": [
    "# Challenge 2 - Create the Database and Tables\n",
    "Create a database for this lab.\n",
    "\n",
    "In BigQuery you will find a 'dataset' called 'car_dealership'. You will create all tables under this.\n",
    "\n",
    "Now, based on the database design you created, write the SQL query to create the tables and columns. You will be using the CREATE TABLE statement for which you can find reference here.\n",
    "\n",
    "Now split yourselves in pairs and decide which table you want to create. Each pair should create one table. Once you have created the table, go to the BigQuery interface and make sure that the table was created correctly."
   ]
  },
  {
   "cell_type": "code",
   "execution_count": 15,
   "metadata": {
    "ExecuteTime": {
     "end_time": "2020-01-24T09:23:24.579318Z",
     "start_time": "2020-01-24T09:23:24.569237Z"
    }
   },
   "outputs": [],
   "source": [
    "import os\n",
    "os.environ[\"GOOGLE_APPLICATION_CREDENTIALS\"]=\"/Users/MarLizana/Desktop/IH/ironhack_service_account_big_query.json\"\n",
    "from google.cloud import bigquery\n",
    "\n",
    "sql='''\n",
    "CREATE TABLE car_dealership.car(\n",
    "  vin STRING NOT NULL,\n",
    "  manufacturer STRING,\n",
    "  model STRING,\n",
    "  year NUMERIC,\n",
    "  color STRING)\n",
    "'''\n",
    "\n",
    "client = bigquery.Client()"
   ]
  },
  {
   "cell_type": "code",
   "execution_count": 16,
   "metadata": {
    "ExecuteTime": {
     "end_time": "2020-01-24T09:23:26.615555Z",
     "start_time": "2020-01-24T09:23:25.707548Z"
    }
   },
   "outputs": [],
   "source": [
    "query_job = client.query(query=sql)"
   ]
  },
  {
   "cell_type": "markdown",
   "metadata": {},
   "source": [
    "# Challenge 3 - Seeding the Database\n",
    "The purpose of database seeding is to provide some dummy data for an empty database so that software development can be started based on the dummy data. In this challenge you will insert dummy data rows into the tables of your new database.\n",
    "\n",
    "You'll be using the INSERT INTO statement for this purpose. You can some info here.\n",
    "\n",
    "For your convenience, we provide you with some example dummy data. These dummy data may not readily work with your database depending on how you have designed your database. You may need to change them to the appropriate form. You should only insert data into the table you have created."
   ]
  },
  {
   "cell_type": "code",
   "execution_count": 17,
   "metadata": {
    "ExecuteTime": {
     "end_time": "2020-01-24T09:23:31.843774Z",
     "start_time": "2020-01-24T09:23:29.602113Z"
    }
   },
   "outputs": [
    {
     "data": {
      "text/plain": [
       "<google.cloud.bigquery.table._EmptyRowIterator at 0x11c2e9250>"
      ]
     },
     "execution_count": 17,
     "metadata": {},
     "output_type": "execute_result"
    }
   ],
   "source": [
    "sql_3 = '''INSERT INTO `ironhack-data-analytics-265219.car_dealership.car` \n",
    "VALUES (\"3K096I98581DHSNUP\",\"Volkswagen\",\"Tiguan\",2019, \"Blue\"),(\"ZM8G7BEUQZ97IH46V\",\"Peugeot\", \"Rifter\",2019,\"Red\"),(\"RKXVNNIHLVVZOUB4M\",\"Ford\", \"Fusion\",2018,\"White\"),(\"HKNDGS7CU31E9Z7JW\",\"Toyota\", \"RAV4\",2018,\"Silver\"),(\"DAM41UDN3CHU2WVF6\",\"Volvo\",\"V60\",2019,\"Gray\"),(\"DAM41UDN3CHU2WVF6\",\"Volvo\",\"V60 Cross Country\",2019,\"Gray\");\n",
    "'''\n",
    "query_job = client.query(query=sql_3)\n",
    "query_job.result()"
   ]
  },
  {
   "cell_type": "code",
   "execution_count": 24,
   "metadata": {
    "ExecuteTime": {
     "end_time": "2020-01-24T09:27:07.659449Z",
     "start_time": "2020-01-24T09:27:07.647390Z"
    }
   },
   "outputs": [
    {
     "data": {
      "text/html": [
       "<div>\n",
       "<style scoped>\n",
       "    .dataframe tbody tr th:only-of-type {\n",
       "        vertical-align: middle;\n",
       "    }\n",
       "\n",
       "    .dataframe tbody tr th {\n",
       "        vertical-align: top;\n",
       "    }\n",
       "\n",
       "    .dataframe thead th {\n",
       "        text-align: right;\n",
       "    }\n",
       "</style>\n",
       "<table border=\"1\" class=\"dataframe\">\n",
       "  <thead>\n",
       "    <tr style=\"text-align: right;\">\n",
       "      <th></th>\n",
       "    </tr>\n",
       "  </thead>\n",
       "  <tbody>\n",
       "  </tbody>\n",
       "</table>\n",
       "</div>"
      ],
      "text/plain": [
       "Empty DataFrame\n",
       "Columns: []\n",
       "Index: []"
      ]
     },
     "execution_count": 24,
     "metadata": {},
     "output_type": "execute_result"
    }
   ],
   "source": [
    "query_job.to_dataframe()"
   ]
  },
  {
   "cell_type": "markdown",
   "metadata": {},
   "source": [
    "# Bonus Challenge - Updating and Deleting Database Records\n",
    "Now you find an error you need to fix in your existing data - in the Salespersons table, you mistakenly spelled Miami as Mimia for Paige Turner. Also, you received the email addresses of the three customers:\n",
    "\n",
    "Name\tEmail\n",
    "Pablo Picasso\tppicasso@gmail.com\n",
    "Abraham Lincoln\tlincoln@us.gov\n",
    "Napoléon Bonaparte\thello@napoleon.me\n",
    "Update those records.\n",
    "\n",
    "In addition, you also find a duplicated car entry for VIN DAM41UDN3CHU2WVF6. You want to delete car ID #4 from the database.\n",
    "\n",
    "You can some info here."
   ]
  },
  {
   "cell_type": "code",
   "execution_count": 19,
   "metadata": {
    "ExecuteTime": {
     "end_time": "2020-01-24T09:24:51.333611Z",
     "start_time": "2020-01-24T09:24:50.859748Z"
    }
   },
   "outputs": [],
   "source": [
    "sql_4 = \"\"\"\n",
    "    DELETE FROM \n",
    "        `ironhack-data-analytics-265219.car_dealership.car`\n",
    "    WHERE \n",
    "        vin = \"DAM41UDN3CHU2WVF6\" AND model = \"V60\"\n",
    "    \"\"\"\n",
    "query_job = client.query(query=sql_4)"
   ]
  }
 ],
 "metadata": {
  "kernelspec": {
   "display_name": "Python 3",
   "language": "python",
   "name": "python3"
  },
  "language_info": {
   "codemirror_mode": {
    "name": "ipython",
    "version": 3
   },
   "file_extension": ".py",
   "mimetype": "text/x-python",
   "name": "python",
   "nbconvert_exporter": "python",
   "pygments_lexer": "ipython3",
   "version": "3.7.4"
  },
  "toc": {
   "base_numbering": 1,
   "nav_menu": {},
   "number_sections": true,
   "sideBar": true,
   "skip_h1_title": false,
   "title_cell": "Table of Contents",
   "title_sidebar": "Contents",
   "toc_cell": false,
   "toc_position": {},
   "toc_section_display": true,
   "toc_window_display": false
  },
  "varInspector": {
   "cols": {
    "lenName": 16,
    "lenType": 16,
    "lenVar": 40
   },
   "kernels_config": {
    "python": {
     "delete_cmd_postfix": "",
     "delete_cmd_prefix": "del ",
     "library": "var_list.py",
     "varRefreshCmd": "print(var_dic_list())"
    },
    "r": {
     "delete_cmd_postfix": ") ",
     "delete_cmd_prefix": "rm(",
     "library": "var_list.r",
     "varRefreshCmd": "cat(var_dic_list()) "
    }
   },
   "types_to_exclude": [
    "module",
    "function",
    "builtin_function_or_method",
    "instance",
    "_Feature"
   ],
   "window_display": false
  }
 },
 "nbformat": 4,
 "nbformat_minor": 2
}
